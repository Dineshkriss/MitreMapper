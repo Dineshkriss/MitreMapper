{
 "cells": [
  {
   "cell_type": "code",
   "execution_count": null,
   "metadata": {
    "vscode": {
     "languageId": "plaintext"
    }
   },
   "outputs": [],
   "source": [
    "import torch\n",
    "import pandas as pd\n",
    "from transformers import BertTokenizer, BertForSequenceClassification\n",
    "from torch.utils.data import DataLoader, Dataset\n",
    "import torch.nn.functional as F\n",
    "\n",
    "# Hardcoded MITRE ATT&CK Mapping for CVEs\n",
    "MITRE_MAPPING = {\n",
    "    \"CVE-2021-26855\": \"T1190 - Exploit Public-Facing Application\",\n",
    "    \"CVE-2021-26857\": \"T1210 - Remote Code Execution\",\n",
    "    \"CVE-2021-26858\": \"T1072 - Remote Services\",\n",
    "    \"CVE-2021-27065\": \"T1203 - Exploitation for Client Execution\",\n",
    "}\n",
    "\n",
    "def extract_mitre_ttp(text):\n",
    "    for cve, ttp in MITRE_MAPPING.items():\n",
    "        if cve in text:\n",
    "            return ttp\n",
    "    return \"No MITRE ATT&CK mapping found\"\n",
    "\n",
    "# Load dataset\n",
    "train_path = \"df_train.csv\"\n",
    "test_path = \"df_test.csv\"\n",
    "df_train = pd.read_csv(train_path)\n",
    "df_test = pd.read_csv(test_path)\n",
    "\n",
    "# Define dataset class\n",
    "class ThreatIntelDataset(Dataset):\n",
    "    def __init__(self, texts, labels, tokenizer, max_length=256):\n",
    "        self.texts = texts\n",
    "        self.labels = labels\n",
    "        self.tokenizer = tokenizer\n",
    "        self.max_length = max_length\n",
    "\n",
    "    def __len__(self):\n",
    "        return len(self.texts)\n",
    "\n",
    "    def __getitem__(self, idx):\n",
    "        text = self.texts[idx]\n",
    "        label = self.labels[idx]\n",
    "        encoding = self.tokenizer(text, padding='max_length', truncation=True, max_length=self.max_length, return_tensors=\"pt\")\n",
    "        return {\n",
    "            'input_ids': encoding['input_ids'].squeeze(0),\n",
    "            'attention_mask': encoding['attention_mask'].squeeze(0),\n",
    "            'label': torch.tensor(label, dtype=torch.long)\n",
    "        }\n"
   ]
  }
 ],
 "metadata": {
  "language_info": {
   "name": "python"
  }
 },
 "nbformat": 4,
 "nbformat_minor": 2
}
